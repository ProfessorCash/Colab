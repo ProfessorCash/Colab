{
  "nbformat": 4,
  "nbformat_minor": 0,
  "metadata": {
    "colab": {
      "name": "NumPy-Pandas Cheat Sheet.ipynb",
      "provenance": [],
      "authorship_tag": "ABX9TyNJTkixZvKvTGwchXMPzBkA",
      "include_colab_link": true
    },
    "kernelspec": {
      "name": "python3",
      "display_name": "Python 3"
    }
  },
  "cells": [
    {
      "cell_type": "markdown",
      "metadata": {
        "id": "view-in-github",
        "colab_type": "text"
      },
      "source": [
        "<a href=\"https://colab.research.google.com/github/ProfessorCash/Colab/blob/master/NumPy_Pandas_Cheat_Sheet.ipynb\" target=\"_parent\"><img src=\"https://colab.research.google.com/assets/colab-badge.svg\" alt=\"Open In Colab\"/></a>"
      ]
    },
    {
      "cell_type": "markdown",
      "metadata": {
        "id": "1U2GWLwIbAPN",
        "colab_type": "text"
      },
      "source": [
        "# NumPy - Pandas Cheat Shet\n",
        "\n",
        "---\n",
        "\n",
        "\n",
        "\n",
        "---\n",
        "\n"
      ]
    },
    {
      "cell_type": "markdown",
      "metadata": {
        "id": "HmPqY9CjbD2l",
        "colab_type": "text"
      },
      "source": [
        "> NumPy\n",
        "\n",
        "*   Linear Algebra Library\n",
        "*   Main building block for other Data Libraries\n",
        "*    Very fast"
      ]
    },
    {
      "cell_type": "markdown",
      "metadata": {
        "id": "DGmTXQxRb3YK",
        "colab_type": "text"
      },
      "source": [
        ""
      ]
    },
    {
      "cell_type": "code",
      "metadata": {
        "id": "tGYEu8sUbDf1",
        "colab_type": "code",
        "colab": {}
      },
      "source": [
        "import numpy as np\n",
        "import pandas as pd"
      ],
      "execution_count": null,
      "outputs": []
    },
    {
      "cell_type": "code",
      "metadata": {
        "id": "D0fZdNgZcba2",
        "colab_type": "code",
        "colab": {}
      },
      "source": [
        "###NUMPY###\n",
        "###Basics###\n",
        "###!REMEMBER: matrices are always in (rows, columns)\n",
        "\n",
        "#Create array from python list or numpy\n",
        "np.array(my_list) #from Python\n",
        "np.array(my_matrix) #where my_matrix = [1,2,3],[4,5,6],[7,8,9]\n",
        "np.arange(0,10,2) #from numpy -> from, to, step\n",
        "#arange is basically the range version of np\n",
        "\n",
        "#Special\n",
        "np.zeros(3) #array([0., 0., 0.])\n",
        "np.ones(3) #array([1., 1., 1.])\n",
        "np.ones(3,3) #as matrix\n",
        "np.linspace(0,10,3) #evenly spaced numbers over intervall -> from, to, iterations\n",
        "np.eye(4) #identity matrix (# of rows = columns)\n",
        "\n",
        "#Random\n",
        "###!REMEMBER: alternatively use \"from numpy.random import randn\" or \"rand\"\n",
        "np.random.rand(4,5) #4row 5col matrix uniform distribution\n",
        "np.random.randn(4,5) #4row 5col matrix gaussian distribution\n",
        "np.random.randint(1,100,10) #rand # between intervall -> from, to, len\n",
        "\n",
        "#Array Attributes and Methods\n",
        "np.arange(25).reshape(5,5) #tranform into matrix\n",
        "np.arange(25).min() #/max(), argmax(), argmin() -> location\n",
        "np.arange(25).shape #shows dimension"
      ],
      "execution_count": null,
      "outputs": []
    },
    {
      "cell_type": "code",
      "metadata": {
        "id": "-0305vrPcikm",
        "colab_type": "code",
        "colab": {}
      },
      "source": [
        "###NUMPY###\n",
        "###Indexing/Selections###\n",
        "\n",
        "#1d\n",
        "np.arange(25)[8] #single index location\n",
        "np.arange(25)[1:5] #range\n",
        "np.arange(25)[1:5] = 100 #Broadcasting\n",
        "\n",
        "#2d arr_2d[row,col]\n",
        "arr_2d[1] #first row\n",
        "arr_2d[1,0] #first row, first col = single value\n",
        "arr_2d[:2,1:]\n",
        "arr_2d[:2,:]\n",
        "\n",
        "#Conditional Selection\n",
        "arr>x #boolean\n",
        "arr[arr>x] #filter\n",
        "\n",
        "arr[arr[:,1].argsort()] #sort rows by 2nd columns\n",
        "arr[:,arr[1,:].argsort()] #sort columns by 2nd row"
      ],
      "execution_count": null,
      "outputs": []
    }
  ]
}