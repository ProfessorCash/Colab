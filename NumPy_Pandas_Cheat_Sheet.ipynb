{
  "nbformat": 4,
  "nbformat_minor": 0,
  "metadata": {
    "colab": {
      "name": "NumPy-Pandas Cheat Sheet.ipynb",
      "provenance": [],
      "authorship_tag": "ABX9TyOeD94UnRKwOI+7DRplzMdT",
      "include_colab_link": true
    },
    "kernelspec": {
      "name": "python3",
      "display_name": "Python 3"
    }
  },
  "cells": [
    {
      "cell_type": "markdown",
      "metadata": {
        "id": "view-in-github",
        "colab_type": "text"
      },
      "source": [
        "<a href=\"https://colab.research.google.com/github/ProfessorCash/Colab/blob/master/NumPy_Pandas_Cheat_Sheet.ipynb\" target=\"_parent\"><img src=\"https://colab.research.google.com/assets/colab-badge.svg\" alt=\"Open In Colab\"/></a>"
      ]
    },
    {
      "cell_type": "markdown",
      "metadata": {
        "id": "1U2GWLwIbAPN",
        "colab_type": "text"
      },
      "source": [
        "# NumPy - Pandas Cheat Shet\n",
        "\n",
        "---\n",
        "\n",
        "\n",
        "\n",
        "---\n",
        "\n"
      ]
    },
    {
      "cell_type": "markdown",
      "metadata": {
        "id": "HmPqY9CjbD2l",
        "colab_type": "text"
      },
      "source": [
        "> NumPy\n",
        "\n",
        "*   Linear Algebra Library\n",
        "*   Main building block for other Data Libraries\n",
        "*    Very fast"
      ]
    },
    {
      "cell_type": "markdown",
      "metadata": {
        "id": "DGmTXQxRb3YK",
        "colab_type": "text"
      },
      "source": [
        ""
      ]
    },
    {
      "cell_type": "code",
      "metadata": {
        "id": "tGYEu8sUbDf1",
        "colab_type": "code",
        "colab": {}
      },
      "source": [
        "import numpy as np\n",
        "import pandas as pd"
      ],
      "execution_count": null,
      "outputs": []
    },
    {
      "cell_type": "code",
      "metadata": {
        "id": "D0fZdNgZcba2",
        "colab_type": "code",
        "colab": {}
      },
      "source": [
        "###NUMPY###\n",
        "###Basics###\n",
        "###!REMEMBER: matrices are always in (rows, columns)\n",
        "\n",
        "#Create array from python list or numpy\n",
        "np.array(my_list) #from Python\n",
        "np.array(my_matrix) #where my_matrix = [1,2,3],[4,5,6],[7,8,9]\n",
        "np.arange(0,10,2) #from numpy -> from, to, step\n",
        "#arange is basically the range version of np\n",
        "\n",
        "#Special\n",
        "np.zeros(3) #array([0., 0., 0.])\n",
        "np.ones(3) #array([1., 1., 1.])\n",
        "np.ones(3,3) #as matrix\n",
        "np.linspace(0,10,3) #evenly spaced numbers over intervall -> from, to, iterations\n",
        "np.eye(4) #identity matrix (# of rows = columns)\n",
        "\n",
        "#Random\n",
        "###!REMEMBER: alternatively use \"from numpy.random import randn\" or \"rand\"\n",
        "np.random.rand(4,5) #4row 5col matrix uniform distribution\n",
        "np.random.randn(4,5) #4row 5col matrix gaussian distribution\n",
        "np.random.randint(1,100,10) #rand # between intervall -> from, to, len\n",
        "\n",
        "#Array Attributes and Methods\n",
        "np.arange(25).reshape(5,5) #tranform into matrix\n",
        "np.arange(25).min() #/max(), argmax(), argmin() -> location\n",
        "np.arange(25).shape #shows dimension\n",
        "\n",
        "###Indexing/Selections###\n",
        "\n",
        "#1d\n",
        "np.arange(25)[8] #single index location\n",
        "np.arange(25)[1:5] #range\n",
        "np.arange(25)[1:5] = 100 #Broadcasting\n",
        "\n",
        "#2d arr_2d[row,col]\n",
        "arr_2d[1] #first row\n",
        "arr_2d[1,0] #first row, first col = single value\n",
        "arr_2d[:2,1:]\n",
        "arr_2d[:2,:]\n",
        "\n",
        "#Conditional Selection\n",
        "arr>x #boolean\n",
        "arr[arr>x] #filter\n",
        "\n",
        "arr[arr[:,1].argsort()] #sort rows by 2nd columns\n",
        "arr[:,arr[1,:].argsort()] #sort columns by 2nd row"
      ],
      "execution_count": null,
      "outputs": []
    },
    {
      "cell_type": "markdown",
      "metadata": {
        "id": "KCyR_LcNdkbA",
        "colab_type": "text"
      },
      "source": [
        ""
      ]
    },
    {
      "cell_type": "markdown",
      "metadata": {
        "id": "KOyKv76qdkra",
        "colab_type": "text"
      },
      "source": [
        "> Pandas\n",
        "\n",
        "\n",
        "*   Series - quite similar to NumPy arrays but can handle datetime index instead of numerical i.e. it can use also a label which is non-numerical + it can hold any type of Python Object\n",
        "*   DataFrames - Core Pandas Data type, is a collections of Series objects with same index + it has column headers"
      ]
    },
    {
      "cell_type": "code",
      "metadata": {
        "id": "9EIwpJ8mdoRf",
        "colab_type": "code",
        "colab": {}
      },
      "source": [
        "###Series Syntax###\n",
        "pd.Series(data,index) #can be Python list, np.array or Dictionary\n",
        "#multiple series with matching index can be added\n",
        "\n",
        "###DataFrames### example\n",
        "pd.DataFrame(data,index,column)\n",
        "pd.DataFrame(randn(5,4),index = \"A B C D E\".split(), columns = \"W X Y Z\".splt())\n",
        "#can also be pulled directly from dictionary / keys are columns\n",
        "pd.DataFrame.from_dict(data)pd.DataFrame.from_dict(data)\n",
        "\n",
        "\n",
        "###Attribute\n",
        "df.dtypes #all columns\n",
        "df.dtypes[\"columnname\"] #single column\n",
        "or\n",
        "df.\"column name not as string\".dtype\n",
        "df.info\n",
        "\n",
        "###Indexing/Selections###\n",
        "#note here that contrary to NumPy array, passing a singel argument calls for columns\n",
        "#not for row -> use df.loc or iloc to get row -> .loc works the same as location call in Numpy\n",
        "df.shape #col & row\n",
        "#from columns\n",
        "df.columns[:10]\n",
        "df.shape[1]\n",
        "df[\"W\"] #or pass list df[[\"W\",\"Y\"]], both are np.Series'\n",
        "df[\"new\"] = some_data #eg df[\"W\"] + df[\"Y\"]\n",
        "df.drop[\"new\",axis=1] #default axis=0(row), inplace=True for permanent, works with rows as well\n",
        "#from rows\n",
        "df.loc[\"A\"] #or iloc[x]\n",
        "df.shape[0]\n",
        "\n",
        "#subset\n",
        "df.loc[\"row\",\"col\"] #also works with .iloc\n",
        "df.loc[[\"row1\",\"row2\"][\"col1\",\"col2\"]] #also works with .iloc\n",
        "#with .iloc also use slicing; note df.iloc[[0,1],[2,3]] == df.iloc[:2,2:4]\n",
        "\n",
        "#Conditional Selection/Filtering (like in numpy array)\n",
        "#Syntax df[booleanfilter].array to be applied on\n",
        "df[df>x]\n",
        "df[df[\"W\"]>x]\n",
        "df[df[\"W\"]>x][\"Y\",\"X\"] #show Y and X where W > 0\n",
        "#multiple conditions user \"or\" |(pipe); \"and\" &\n",
        "df[(df[\"W\"] > 0) & (df[\"Y\"] > 1)]\n",
        "#with loc\n",
        "df.loc[df[\"colx\"].isin([\"aaa\", \"bbb\", \"ccc\"]), [\"colx\", \"coly\"]] #filter for rows aaa, bbb, ccc in colx and show colx and coly\n",
        "\n",
        "#misc\n",
        "df.reset_index() #creats a numerical index and turn old index into a new column\n",
        "df.set_index(\"name\") #inplace=True\n",
        "#review notes for multiindex, if actually required\n",
        "\n",
        "###Missing Data###\n",
        "df.dropna(axis=1/0) #also with threshold of allowed np.nan till drop ,thresh=x\n",
        "df.fillna(\"value\") # df[\"col\"].fillna(value=df[\"col\"],mean())\n",
        "df.drop_duplicates([\"select single\", \"or multiple columns\"])\n",
        "\n",
        "###GroupBy###\n",
        "#group rows based off of a column and then perform a function\n",
        "#i.e. aggregate columns\n",
        "#has to be followed by a method\n",
        "df.groupby(\"col\").method().loc[\"x\"] #here loc refers to row\n",
        "df.groupby(\"col\").mean() #std(), min(), max(), count(),\n",
        "df.groupby(\"col\").describe() #crazy shit also possible with .transpose()\n",
        "    #cntd. if method only describes first col, for all .describe(include=\"all\")\n",
        "df.groupby([\"colx\", \"coly\").describe().unstack()\n",
        "    #Returns a DataFrame having a new level of column labels whose inner-most level consists of the pivoted index labels.\n",
        "    #i.e. here the second grouped by coly will unstacked to the column header\n",
        "[print(x, y) for x, y in df.groupby(\"colx\")] #prints name and whole data of groupby column\n",
        "\n",
        "###Merging, Joining, and Concatenating###\n",
        "pd.concat([df1,df2,df3]) #axis=0/1; dimensions should match along the axis to be concatenated\n",
        "pd.merge(df1,df2,on=\"key\") #merge on key, which is a column with data and not the index also list of keys possible\n",
        "df1.join(df2) #join on index that is unequal\n",
        "\n",
        "###Operations###\n",
        "df.\"column name not as string\".sum() #\"actual column name\" not as string\n",
        "df[\"col1\"].unique() #array of unique value\n",
        "df[\"col1\"].nunique() #count of unique values\n",
        "df[\"col1\"].apply(lambda x:x*2) #apply function on data\n",
        "df[\"col1\"].apply(len)\n",
        "sum(), columns, index, head(), isnull(), dropna(), fillna(\"xyz\"), count(), value_counts(), size()\n",
        "df.sort_values(by=\"col2\")\n",
        "df.pivot_table(values=\"Z\",index=[\"A\",\"B\"],columns=\"C\")\n",
        "\n",
        "###Data Input and Output###\n",
        "df = pd.read_csv(\"example.csv\") #in\n",
        "df = pd.read_csv(\"example.tsv\" sep=\"\\t\") #tsv\n",
        "df.to_csv(\"example\", index=False) #out\n",
        "pd.read_excel(\"example.xlsx\", sheet_name=\"Sheet1\")\n",
        "df.to_excel(\"example.xlsx\", sheet_name=\"Sheet1\")\n",
        "\n",
        "###apply function example (without lambda)###\n",
        "#create new data column by altering data in existing column\n",
        "def function1(x):\n",
        "    if x == \"AAA\":\n",
        "        return 1\n",
        "    else:\n",
        "        return 0   \n",
        "df[\"column_new\"] = df[\"column_old\"].apply(function)"
      ],
      "execution_count": null,
      "outputs": []
    }
  ]
}